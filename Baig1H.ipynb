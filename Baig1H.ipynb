{
  "nbformat": 4,
  "nbformat_minor": 0,
  "metadata": {
    "colab": {
      "provenance": [],
      "authorship_tag": "ABX9TyM03MytPGOjOb1Rf/tMg5Ux",
      "include_colab_link": true
    },
    "kernelspec": {
      "name": "python3",
      "display_name": "Python 3"
    },
    "language_info": {
      "name": "python"
    }
  },
  "cells": [
    {
      "cell_type": "markdown",
      "metadata": {
        "id": "view-in-github",
        "colab_type": "text"
      },
      "source": [
        "<a href=\"https://colab.research.google.com/github/iambaig010/image-preprocessing/blob/main/Baig1H.ipynb\" target=\"_parent\"><img src=\"https://colab.research.google.com/assets/colab-badge.svg\" alt=\"Open In Colab\"/></a>"
      ]
    },
    {
      "cell_type": "code",
      "execution_count": null,
      "metadata": {
        "id": "y53TXTbQaQg0"
      },
      "outputs": [],
      "source": [
        "# Import the necessary Libraries\n",
        "import cv2\n",
        "import numpy as np\n",
        "import matplotlib.pyplot as plt\n",
        "\n",
        "# Load the image\n",
        "image = cv2.imread('/content/GaneshjiOnTop.webp')\n",
        "\n",
        "# Convert BGR image to gray\n",
        "image_gray = cv2.cvtColor(image, cv2.COLOR_BGR2GRAY)\n",
        "\n",
        "# Create a structuring element\n",
        "kernel = np.ones((3, 3), np.uint8)\n",
        "\n",
        "# Perform dilation\n",
        "dilated = cv2.dilate(image_gray, kernel, iterations=2)\n",
        "\n",
        "# Perform erosion\n",
        "eroded = cv2.erode(image_gray, kernel, iterations=2)\n",
        "\n",
        "# Perform opening (erosion followed by dilation)\n",
        "opening = cv2.morphologyEx(image_gray, cv2.MORPH_OPEN, kernel)\n",
        "\n",
        "# Perform closing (dilation followed by erosion)\n",
        "closing = cv2.morphologyEx(image_gray, cv2.MORPH_CLOSE, kernel)\n",
        "\n",
        "# Create subplots\n",
        "fig, axs = plt.subplots(2, 2, figsize=(7, 7))\n",
        "\n",
        "# Plot the Dilated Image\n",
        "axs[0,0].imshow(dilated, cmap='Greys')\n",
        "axs[0,0].set_title('Dilated Image')\n",
        "axs[0,0].set_xticks([])\n",
        "axs[0,0].set_yticks([])\n",
        "\n",
        "# Plot the Eroded Image\n",
        "axs[0,1].imshow(eroded, cmap='Greys')\n",
        "axs[0,1].set_title('Eroded Image')\n",
        "axs[0,1].set_xticks([])\n",
        "axs[0,1].set_yticks([])\n",
        "\n",
        "# Plot the opening (erosion followed by dilation)\n",
        "axs[1,0].imshow(opening, cmap='Greys')\n",
        "axs[1,0].set_title('Opening')\n",
        "axs[1,0].set_xticks([])\n",
        "axs[1,0].set_yticks([])\n",
        "\n",
        "# Plot the closing (dilation followed by erosion)\n",
        "axs[1,1].imshow(closing, cmap='Greys')\n",
        "axs[1,1].set_title('Closing')\n",
        "axs[1,1].set_xticks([])\n",
        "axs[1,1].set_yticks([])\n",
        "\n",
        "# Display the subplots\n",
        "plt.tight_layout()\n",
        "plt.show()\n"
      ]
    }
  ]
}